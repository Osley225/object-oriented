{
 "cells": [
  {
   "cell_type": "code",
   "execution_count": null,
   "id": "b9d5c373-0abc-4e40-b594-eb5b1238d687",
   "metadata": {},
   "outputs": [],
   "source": [
    "class shape:\n",
    "    def __int__(self):\n",
    "        self.Area = 0\n",
    "\n",
    "    def Area(self):\n",
    "        print(self.Area)\n",
    "        \n",
    "class triangle(shape):\n",
    "    def __init__(self,base , height):\n",
    "        super().__int__()\n",
    "        \n",
    "        self.base = base\n",
    "        self.height = height\n",
    "\n",
    "    def Area(self):\n",
    "        Area = self.base * self.height/2\n",
    "        print(self.Area)\n",
    "area1 = triangle(5,4)\n",
    "area1.Area()\n"
   ]
  }
 ],
 "metadata": {
  "kernelspec": {
   "display_name": "Python 3 (ipykernel)",
   "language": "python",
   "name": "python3"
  },
  "language_info": {
   "codemirror_mode": {
    "name": "ipython",
    "version": 3
   },
   "file_extension": ".py",
   "mimetype": "text/x-python",
   "name": "python",
   "nbconvert_exporter": "python",
   "pygments_lexer": "ipython3",
   "version": "3.13.5"
  }
 },
 "nbformat": 4,
 "nbformat_minor": 5
}
